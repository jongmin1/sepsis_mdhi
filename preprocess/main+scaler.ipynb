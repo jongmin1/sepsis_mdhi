{
 "cells": [
  {
   "cell_type": "code",
   "execution_count": null,
   "id": "19af2ae8-ee4a-4f51-81ea-af2a38b62bb4",
   "metadata": {},
   "outputs": [],
   "source": [
    "nonevent = %sql select * from public.nonevent_table\n",
    "nonevent = pd.DataFrame(nonevent)\n",
    "nonevent.columns=['stay_id', 'compiled_hr', 'starttime', 'endttime', 'pao2ratio_novent', 'pao2ratio_vent', 'rate_dobutamine', 'rate_dopamine', 'rate_epinephrine', 'rate_nonepinephrine', 'meabp_min', 'heartrate_max', 'temperature_max', 'gcs_min', 'bilirubin_max', 'creatineine_max', 'paltelet_min', 'respiration', 'coagulation', 'liver', 'cns', 'renal', 'respiration_24hours', 'coagulation_24hours', 'liver_24hours', 'cns_24hours', 'renal_24hours', 'sofa_24hours']\n",
    "nonevent = nonevent.drop(['pao2ratio_novent', 'rate_dobutamine'], axis=1)\n",
    "nonevent = nonevent[:5000]\n",
    "\n",
    "event = %sql select * from public.event_table\n",
    "event = pd.DataFrame(event)\n",
    "event.columns=['subject_id', 'stay_id', 'compiled_hr', 'starttime', 'endttime', 'pao2ratio_novent', 'pao2ratio_vent', 'rate_dobutamine', 'rate_dopamine', 'rate_epinephrine', 'rate_nonepinephrine', 'meabp_min', 'heartrate_max', 'temperature_max', 'gcs_min', 'bilirubin_max', 'creatineine_max', 'paltelet_min', 'respiration', 'coagulation', 'liver', 'cns', 'renal', 'respiration_24hours', 'coagulation_24hours', 'liver_24hours', 'cns_24hours', 'renal_24hours', 'sofa_24hours', 'infection_time', 'is_infection', 'infection_hour']\n",
    "event = event.drop(['pao2ratio_novent', 'rate_dobutamine'], axis=1)\n",
    "stayid_32 = set(event['stay_id'][event['infection_hour']>32])\n",
    "event = event[event['stay_id'].isin(stayid_32)]\n",
    "\n",
    "non_int = interpolation(nonevent)\n",
    "event_int = interpolation(event)"
   ]
  },
  {
   "cell_type": "code",
   "execution_count": null,
   "id": "22015e57-2bd0-423d-a58c-d0aa427ca308",
   "metadata": {},
   "outputs": [],
   "source": [
    "def scaling (final_data):\n",
    "    scaler = StandardScaler()\n",
    "    cols = ['pao2ratio_vent', 'rate_dopamine', 'rate_epinephrine', 'rate_nonepinephrine', 'meabp_min', 'heartrate_max', 'temperature_max', 'gcs_min', 'bilirubin_max', 'creatineine_max', 'paltelet_min', 'respiration', 'coagulation', 'liver', 'cns', 'renal', 'respiration_24hours', 'coagulation_24hours', 'liver_24hours', 'cns_24hours', 'renal_24hours', 'sofa_24hours']\n",
    "    scaler.fit(final_data[cols])\n",
    "    scale_data = final_data.copy()\n",
    "    scale_data[cols] = df(scaler.transform(final_data[cols]), columns=cols, dtype='float64')\n",
    "    return scale_data"
   ]
  }
 ],
 "metadata": {
  "kernelspec": {
   "display_name": "Python 3",
   "language": "python",
   "name": "python3"
  },
  "language_info": {
   "codemirror_mode": {
    "name": "ipython",
    "version": 3
   },
   "file_extension": ".py",
   "mimetype": "text/x-python",
   "name": "python",
   "nbconvert_exporter": "python",
   "pygments_lexer": "ipython3",
   "version": "3.6.9"
  }
 },
 "nbformat": 4,
 "nbformat_minor": 5
}
