{
 "cells": [
  {
   "cell_type": "code",
   "execution_count": 74,
   "id": "e8e7f3e0-1adb-4a2b-a52b-a20189cfce92",
   "metadata": {},
   "outputs": [],
   "source": [
    "import pandas as pd\n",
    "import os\n",
    "from pandas import DataFrame as df\n",
    "from tqdm.notebook import tqdm"
   ]
  },
  {
   "cell_type": "code",
   "execution_count": 77,
   "id": "2ef89941-4710-4ebd-a439-4bee64e3186f",
   "metadata": {},
   "outputs": [],
   "source": [
    "sepsis01 = os.listdir('./01_sepsis/')"
   ]
  },
  {
   "cell_type": "code",
   "execution_count": 78,
   "id": "77833b13-fd18-4c92-81e2-e4686e51766d",
   "metadata": {},
   "outputs": [
    {
     "data": {
      "text/plain": [
       "['respir_rate.csv',\n",
       " 'heart_rate.csv',\n",
       " 'blood_oxy_satur.csv',\n",
       " 'sys_blood_pressure.csv',\n",
       " 'temperature.csv',\n",
       " 'pH_value.csv',\n",
       " 'wbc_count.csv',\n",
       " 'CO2_part_press.csv',\n",
       " 'dias_blood_pressure.csv']"
      ]
     },
     "execution_count": 78,
     "metadata": {},
     "output_type": "execute_result"
    }
   ],
   "source": [
    "sepsis01"
   ]
  },
  {
   "cell_type": "code",
   "execution_count": 73,
   "id": "774a2dc2-9620-458a-a33a-c86560eeafd8",
   "metadata": {},
   "outputs": [],
   "source": [
    "def sep_1hours(filename):\n",
    "    name = filename.split('.')[0]\n",
    "    data = pd.read_csv('./01_sepsis/'+filename)\n",
    "    data = data.drop(['Unnamed: 0'], axis=1)\n",
    "    data['t_time'] = pd.to_datetime(data['charttime'].map(lambda x: x[:13]))\n",
    "    \n",
    "    by_columns = ['subject_id', 'hadm_id', 'stay_id', 't_time']\n",
    "    if 'wbc' in filename or 'pH' in filename:\n",
    "        by_columns = ['labevent_id', 'subject_id', 'hadm_id', 't_time']\n",
    "    \n",
    "    data = data.groupby(by=by_columns).mean().reset_index()\n",
    "    \n",
    "    return data"
   ]
  },
  {
   "cell_type": "code",
   "execution_count": 68,
   "id": "0674e785-2a5a-47b3-a48e-623986503e4a",
   "metadata": {},
   "outputs": [
    {
     "data": {
      "application/vnd.jupyter.widget-view+json": {
       "model_id": "05833d52a89244f28e40f870aa0338b7",
       "version_major": 2,
       "version_minor": 0
      },
      "text/plain": [
       "  0%|          | 0/5 [00:00<?, ?it/s]"
      ]
     },
     "metadata": {},
     "output_type": "display_data"
    },
    {
     "name": "stdout",
     "output_type": "stream",
     "text": [
      "temperature.csv\n",
      "         subject_id   hadm_id   stay_id              t_time  valuenum\n",
      "0          10000032  29079034  39553978 2180-07-23 14:00:00      98.7\n",
      "1          10000032  29079034  39553978 2180-07-23 17:00:00      98.7\n",
      "2          10000032  29079034  39553978 2180-07-23 20:00:00      99.5\n",
      "3          10000980  26913865  39765666 2189-06-27 09:00:00      98.0\n",
      "4          10000980  26913865  39765666 2189-06-27 12:00:00      97.7\n",
      "...             ...       ...       ...                 ...       ...\n",
      "1801727    19999987  23865745  36195440 2145-11-04 08:00:00     100.6\n",
      "1801728    19999987  23865745  36195440 2145-11-04 12:00:00      99.9\n",
      "1801729    19999987  23865745  36195440 2145-11-04 16:00:00      98.6\n",
      "1801730    19999987  23865745  36195440 2145-11-04 20:00:00     100.1\n",
      "1801731    19999987  23865745  36195440 2145-11-04 21:00:00      98.6\n",
      "\n",
      "[1801732 rows x 5 columns]\n",
      "pH_value.csv\n",
      "        labevent_id  subject_id   hadm_id              t_time  valuenum\n",
      "0              5620    10000935  25849114 2187-10-22 15:00:00      7.41\n",
      "1              8469    10000980  20897796 2193-08-14 21:00:00      7.33\n",
      "2             16257    10001884  29678536 2130-10-10 09:00:00      7.35\n",
      "3             16636    10001884  28664981 2130-11-29 00:00:00      7.42\n",
      "4             17048    10001884  26184834 2131-01-08 10:00:00      7.42\n",
      "...             ...         ...       ...                 ...       ...\n",
      "566420    124071132    19999840  21033226 2164-09-17 13:00:00      7.30\n",
      "566421    124071146    19999840  21033226 2164-09-17 13:00:00      7.27\n",
      "566422    124071159    19999840  21033226 2164-09-17 13:00:00      7.26\n",
      "566423    124071284    19999987  23865745 2145-11-03 05:00:00      7.39\n",
      "566424    124071313    19999987  23865745 2145-11-04 07:00:00      7.42\n",
      "\n",
      "[566425 rows x 5 columns]\n",
      "wbc_count.csv\n",
      "         labevent_id  subject_id   hadm_id              t_time  valuenum\n",
      "0                 27    10000019  25058216 2129-05-21 21:00:00      20.3\n",
      "1                172    10000032  22595853 2180-05-07 05:00:00       4.2\n",
      "2                375    10000032  22841357 2180-06-27 05:00:00       6.6\n",
      "3                466    10000032  29079034 2180-07-24 06:00:00       4.1\n",
      "4                475    10000032  29079034 2180-07-25 04:00:00       4.8\n",
      "...              ...         ...       ...                 ...       ...\n",
      "1884324    124071348    19999987  23865745 2145-11-04 10:00:00      11.6\n",
      "1884325    124071371    19999987  23865745 2145-11-05 06:00:00      10.0\n",
      "1884326    124071383    19999987  23865745 2145-11-06 10:00:00       5.9\n",
      "1884327    124071408    19999987  23865745 2145-11-07 06:00:00       5.0\n",
      "1884328    124071443    19999987  23865745 2145-11-09 05:00:00       5.7\n",
      "\n",
      "[1884329 rows x 5 columns]\n",
      "CO2_part_press.csv\n",
      "        subject_id   hadm_id   stay_id              t_time  valuenum\n",
      "0         10001884  26184834  37510196 2131-01-12 21:00:00      60.0\n",
      "1         10001884  26184834  37510196 2131-01-13 02:00:00      53.0\n",
      "2         10001884  26184834  37510196 2131-01-14 07:00:00      49.0\n",
      "3         10002013  23581541  39060235 2160-05-18 10:00:00      45.0\n",
      "4         10002013  23581541  39060235 2160-05-18 11:00:00      41.0\n",
      "...            ...       ...       ...                 ...       ...\n",
      "313594    19999840  21033226  38978960 2164-09-15 16:00:00      42.0\n",
      "313595    19999840  21033226  38978960 2164-09-17 08:00:00      36.0\n",
      "313596    19999840  21033226  38978960 2164-09-17 13:00:00      57.0\n",
      "313597    19999987  23865745  36195440 2145-11-03 05:00:00      44.0\n",
      "313598    19999987  23865745  36195440 2145-11-04 07:00:00      36.0\n",
      "\n",
      "[313599 rows x 5 columns]\n",
      "dias_blood_pressure.csv\n",
      "         subject_id   hadm_id   stay_id              t_time  valuenum\n",
      "0          10000032  29079034  39553978 2180-07-23 14:00:00      53.5\n",
      "1          10000032  29079034  39553978 2180-07-23 15:00:00      56.0\n",
      "2          10000032  29079034  39553978 2180-07-23 16:00:00      55.0\n",
      "3          10000032  29079034  39553978 2180-07-23 17:00:00      58.0\n",
      "4          10000032  29079034  39553978 2180-07-23 18:00:00      53.0\n",
      "...             ...       ...       ...                 ...       ...\n",
      "5910475    19999987  23865745  36195440 2145-11-04 09:00:00      52.0\n",
      "5910476    19999987  23865745  36195440 2145-11-04 13:00:00      72.0\n",
      "5910477    19999987  23865745  36195440 2145-11-04 16:00:00      92.0\n",
      "5910478    19999987  23865745  36195440 2145-11-04 19:00:00     120.0\n",
      "5910479    19999987  23865745  36195440 2145-11-04 21:00:00     107.0\n",
      "\n",
      "[5910480 rows x 5 columns]\n"
     ]
    }
   ],
   "source": [
    "for s in tqdm(sepsis01):\n",
    "    data = sep_1hours(s)\n",
    "    data.to_csv('./my_data_1hour/'+s)\n",
    "    print(s)\n",
    "    print(data)\n",
    "    del(data)"
   ]
  }
 ],
 "metadata": {
  "kernelspec": {
   "display_name": "Python 3",
   "language": "python",
   "name": "python3"
  },
  "language_info": {
   "codemirror_mode": {
    "name": "ipython",
    "version": 3
   },
   "file_extension": ".py",
   "mimetype": "text/x-python",
   "name": "python",
   "nbconvert_exporter": "python",
   "pygments_lexer": "ipython3",
   "version": "3.6.9"
  }
 },
 "nbformat": 4,
 "nbformat_minor": 5
}
